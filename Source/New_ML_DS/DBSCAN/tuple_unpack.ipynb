{
 "cells": [
  {
   "cell_type": "code",
   "execution_count": 1,
   "id": "20fa67e1",
   "metadata": {},
   "outputs": [],
   "source": [
    "craig = ('Peanut Butter', 'Jelly')"
   ]
  },
  {
   "cell_type": "code",
   "execution_count": 2,
   "id": "041862d6",
   "metadata": {},
   "outputs": [
    {
     "data": {
      "text/plain": [
       "tuple"
      ]
     },
     "execution_count": 2,
     "metadata": {},
     "output_type": "execute_result"
    }
   ],
   "source": [
    "type(craig)"
   ]
  },
  {
   "cell_type": "code",
   "execution_count": 3,
   "id": "5412cfbe",
   "metadata": {},
   "outputs": [],
   "source": [
    "first, second = craig"
   ]
  },
  {
   "cell_type": "code",
   "execution_count": 4,
   "id": "3de4fa25",
   "metadata": {},
   "outputs": [
    {
     "name": "stdout",
     "output_type": "stream",
     "text": [
      "Peanut Butter and Jelly\n"
     ]
    }
   ],
   "source": [
    "print(first, 'and', second)"
   ]
  },
  {
   "cell_type": "code",
   "execution_count": null,
   "id": "e01a71ab",
   "metadata": {},
   "outputs": [],
   "source": []
  }
 ],
 "metadata": {
  "kernelspec": {
   "display_name": "Python 3 (ipykernel)",
   "language": "python",
   "name": "python3"
  },
  "language_info": {
   "codemirror_mode": {
    "name": "ipython",
    "version": 3
   },
   "file_extension": ".py",
   "mimetype": "text/x-python",
   "name": "python",
   "nbconvert_exporter": "python",
   "pygments_lexer": "ipython3",
   "version": "3.9.7"
  }
 },
 "nbformat": 4,
 "nbformat_minor": 5
}
